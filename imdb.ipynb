{
 "cells": [
  {
   "cell_type": "markdown",
   "metadata": {},
   "source": [
    "# IMDB parser\n",
    "\n",
    "Read the list of movies for an actor from IMDB, using imdbpy library."
   ]
  },
  {
   "cell_type": "code",
   "execution_count": 104,
   "metadata": {
    "collapsed": true
   },
   "outputs": [],
   "source": [
    "import imdb\n",
    "ia = imdb.IMDb()"
   ]
  },
  {
   "cell_type": "markdown",
   "metadata": {},
   "source": [
    "The actor used for this example is Robert De Niro"
   ]
  },
  {
   "cell_type": "code",
   "execution_count": 105,
   "metadata": {
    "collapsed": false
   },
   "outputs": [],
   "source": [
    "actor_name = 'Robert De Niro'\n",
    "actor = ia.search_person(actor_name)\n",
    "actor = actor[0]\n",
    "ia.update(actor)"
   ]
  },
  {
   "cell_type": "markdown",
   "metadata": {},
   "source": [
    "The headshot is taken from IMDB and showed below."
   ]
  },
  {
   "cell_type": "code",
   "execution_count": 106,
   "metadata": {
    "collapsed": false
   },
   "outputs": [
    {
     "data": {
      "image/jpeg": "[encoded data removed]",
      "text/plain": [
       "<IPython.core.display.Image object>"
      ]
     },
     "execution_count": 106,
     "metadata": {},
     "output_type": "execute_result"
    }
   ],
   "source": [
    "from IPython.display import Image\n",
    "headshot = deniro['headshot']\n",
    "Image(headshot)"
   ]
  },
  {
   "cell_type": "code",
   "execution_count": 141,
   "metadata": {
    "collapsed": false
   },
   "outputs": [
    {
     "name": "stdout",
     "output_type": "stream",
     "text": [
      "Dirty Grandpa\n",
      "Hands of Stone\n",
      "Joy\n",
      "The Intern\n",
      "Bus 657\n",
      "Honeymoon with Harry\n",
      "The Comedian\n",
      "The Bag Man\n",
      "Grudge Match\n",
      "American Hustle\n",
      "Last Vegas\n",
      "The Family\n",
      "Killing Season\n",
      "The Big Wedding\n",
      "Silver Linings Playbook\n",
      "Freelancers\n",
      "Being Flynn\n",
      "Red Lights\n",
      "New Year's Eve\n",
      "Killer Elite\n",
      "Limitless\n",
      "Manuale d'am3re\n",
      "Little Fockers\n",
      "Stone\n",
      "Machete\n",
      "Everybody's Fine\n",
      "Righteous Kill\n",
      "What Just Happened\n",
      "Stardust\n",
      "The Good Shepherd\n",
      "Arthur et les Minimoys\n",
      "Hide and Seek\n",
      "The Bridge of San Luis Rey\n",
      "Meet the Fockers\n",
      "Shark Tale\n",
      "Godsend\n",
      "Analyze That\n",
      "City by the Sea\n",
      "Showtime\n",
      "The Score\n",
      "15 Minutes\n",
      "Meet the Parents\n",
      "Men of Honor\n",
      "The Adventures of Rocky & Bullwinkle\n",
      "Flawless\n",
      "Analyze This\n",
      "Ronin\n",
      "Great Expectations\n",
      "Jackie Brown\n",
      "Wag the Dog\n",
      "Cop Land\n",
      "Marvin's Room\n",
      "Sleepers\n",
      "The Fan\n",
      "Heat\n",
      "Casino\n",
      "Les cent et une nuits de Simon Cinéma\n",
      "Frankenstein\n",
      "A Bronx Tale\n",
      "This Boy's Life\n",
      "Mad Dog and Glory\n",
      "Night and the City\n",
      "Mistress\n",
      "Cape Fear\n",
      "Backdraft\n",
      "Guilty by Suspicion\n",
      "Awakenings\n",
      "Goodfellas\n",
      "Stanley & Iris\n",
      "We're No Angels\n",
      "Jacknife\n",
      "Midnight Run\n",
      "The Untouchables\n",
      "Angel Heart\n",
      "The Mission\n",
      "Brazil\n",
      "Falling in Love\n",
      "Once Upon a Time in America\n",
      "The King of Comedy\n",
      "True Confessions\n",
      "Raging Bull\n",
      "The Deer Hunter\n",
      "New York, New York\n",
      "The Last Tycoon\n",
      "Novecento\n",
      "Taxi Driver\n",
      "The Godfather: Part II\n",
      "Mean Streets\n",
      "Bang the Drum Slowly\n",
      "The Gang That Couldn't Shoot Straight\n",
      "Born to Win\n",
      "Jennifer on My Mind\n",
      "Hi, Mom!\n",
      "Bloody Mama\n",
      "Sam's Song\n",
      "The Wedding Party\n",
      "Greetings\n",
      "Trois chambres à Manhattan\n",
      "Encounter\n",
      "Saturday Night Live\n",
      "30 Rock\n",
      "Extras\n",
      "Dear America: Letters Home from Vietnam\n",
      "The Godfather: A Novel for Television\n"
     ]
    }
   ],
   "source": [
    "films = actor['actor'] # get the films as actor\n",
    "\n",
    "id_values = ['id', 'title', 'rating', 'year', 'kind']\n",
    "data = []\n",
    "for film in films:\n",
    "    ia.update(film)\n",
    "    #if film.get('rating') is not None: #take only movies with a rating\n",
    "    print film\n",
    "    data.append([film.getID()]+[film.get(id_value) for id_value in id_values[1:]])"
   ]
  },
  {
   "cell_type": "code",
   "execution_count": 142,
   "metadata": {
    "collapsed": false
   },
   "outputs": [
    {
     "data": {
      "text/plain": [
       "['1860213', u'Dirty Grandpa', None, 2016, u'movie']"
      ]
     },
     "execution_count": 142,
     "metadata": {},
     "output_type": "execute_result"
    }
   ],
   "source": [
    "data[0]"
   ]
  },
  {
   "cell_type": "code",
   "execution_count": 146,
   "metadata": {
    "collapsed": false
   },
   "outputs": [
    {
     "data": {
      "text/html": [
       "<div style=\"max-height:1000px;max-width:1500px;overflow:auto;\">\n",
       "<table border=\"1\" class=\"dataframe\">\n",
       "  <thead>\n",
       "    <tr style=\"text-align: right;\">\n",
       "      <th></th>\n",
       "      <th>id</th>\n",
       "      <th>title</th>\n",
       "      <th>rating</th>\n",
       "      <th>year</th>\n",
       "      <th>kind</th>\n",
       "    </tr>\n",
       "  </thead>\n",
       "  <tbody>\n",
       "    <tr>\n",
       "      <th>86</th>\n",
       "      <td> 0071562</td>\n",
       "      <td>      The Godfather: Part II</td>\n",
       "      <td> 9.1</td>\n",
       "      <td> 1974</td>\n",
       "      <td> movie</td>\n",
       "    </tr>\n",
       "    <tr>\n",
       "      <th>67</th>\n",
       "      <td> 0099685</td>\n",
       "      <td>                  Goodfellas</td>\n",
       "      <td> 8.7</td>\n",
       "      <td> 1990</td>\n",
       "      <td> movie</td>\n",
       "    </tr>\n",
       "    <tr>\n",
       "      <th>77</th>\n",
       "      <td> 0087843</td>\n",
       "      <td> Once Upon a Time in America</td>\n",
       "      <td> 8.4</td>\n",
       "      <td> 1984</td>\n",
       "      <td> movie</td>\n",
       "    </tr>\n",
       "    <tr>\n",
       "      <th>85</th>\n",
       "      <td> 0075314</td>\n",
       "      <td>                 Taxi Driver</td>\n",
       "      <td> 8.4</td>\n",
       "      <td> 1976</td>\n",
       "      <td> movie</td>\n",
       "    </tr>\n",
       "    <tr>\n",
       "      <th>80</th>\n",
       "      <td> 0081398</td>\n",
       "      <td>                 Raging Bull</td>\n",
       "      <td> 8.3</td>\n",
       "      <td> 1980</td>\n",
       "      <td> movie</td>\n",
       "    </tr>\n",
       "    <tr>\n",
       "      <th>54</th>\n",
       "      <td> 0113277</td>\n",
       "      <td>                        Heat</td>\n",
       "      <td> 8.3</td>\n",
       "      <td> 1995</td>\n",
       "      <td> movie</td>\n",
       "    </tr>\n",
       "    <tr>\n",
       "      <th>55</th>\n",
       "      <td> 0112641</td>\n",
       "      <td>                      Casino</td>\n",
       "      <td> 8.2</td>\n",
       "      <td> 1995</td>\n",
       "      <td> movie</td>\n",
       "    </tr>\n",
       "    <tr>\n",
       "      <th>81</th>\n",
       "      <td> 0077416</td>\n",
       "      <td>             The Deer Hunter</td>\n",
       "      <td> 8.2</td>\n",
       "      <td> 1978</td>\n",
       "      <td> movie</td>\n",
       "    </tr>\n",
       "    <tr>\n",
       "      <th>75</th>\n",
       "      <td> 0088846</td>\n",
       "      <td>                      Brazil</td>\n",
       "      <td> 8.0</td>\n",
       "      <td> 1985</td>\n",
       "      <td> movie</td>\n",
       "    </tr>\n",
       "    <tr>\n",
       "      <th>72</th>\n",
       "      <td> 0094226</td>\n",
       "      <td>            The Untouchables</td>\n",
       "      <td> 8.0</td>\n",
       "      <td> 1987</td>\n",
       "      <td> movie</td>\n",
       "    </tr>\n",
       "  </tbody>\n",
       "</table>\n",
       "</div>"
      ],
      "text/plain": [
       "         id                        title  rating  year   kind\n",
       "86  0071562       The Godfather: Part II     9.1  1974  movie\n",
       "67  0099685                   Goodfellas     8.7  1990  movie\n",
       "77  0087843  Once Upon a Time in America     8.4  1984  movie\n",
       "85  0075314                  Taxi Driver     8.4  1976  movie\n",
       "80  0081398                  Raging Bull     8.3  1980  movie\n",
       "54  0113277                         Heat     8.3  1995  movie\n",
       "55  0112641                       Casino     8.2  1995  movie\n",
       "81  0077416              The Deer Hunter     8.2  1978  movie\n",
       "75  0088846                       Brazil     8.0  1985  movie\n",
       "72  0094226             The Untouchables     8.0  1987  movie"
      ]
     },
     "execution_count": 146,
     "metadata": {},
     "output_type": "execute_result"
    }
   ],
   "source": [
    "import pandas as pd\n",
    "#title_series = pd.Series(title)\n",
    "#rating_series = pd.Series(rating)\n",
    "#year_series = pd.Series(year)\n",
    "#data_frame = pd.DataFrame(title,rating)#,year)\n",
    "data_frame = pd.DataFrame(data,columns=id_values)\n",
    "data_frame_movies = data_frame[data_frame['kind'] == 'movie']\n",
    "data_frame_movies.sort('rating',ascending=False).head(10)"
   ]
  },
  {
   "cell_type": "code",
   "execution_count": 164,
   "metadata": {
    "collapsed": false
   },
   "outputs": [
    {
     "name": "stdout",
     "output_type": "stream",
     "text": [
      "Populating the interactive namespace from numpy and matplotlib\n"
     ]
    },
    {
     "data": {
      "text/html": [
       "<div style=\"max-height:1000px;max-width:1500px;overflow:auto;\">\n",
       "<table border=\"1\" class=\"dataframe\">\n",
       "  <thead>\n",
       "    <tr style=\"text-align: right;\">\n",
       "      <th>kind</th>\n",
       "      <th>movie</th>\n",
       "      <th>tv movie</th>\n",
       "      <th>tv series</th>\n",
       "    </tr>\n",
       "    <tr>\n",
       "      <th>year</th>\n",
       "      <th></th>\n",
       "      <th></th>\n",
       "      <th></th>\n",
       "    </tr>\n",
       "  </thead>\n",
       "  <tbody>\n",
       "    <tr>\n",
       "      <th>2016</th>\n",
       "      <td>  NaN</td>\n",
       "      <td>NaN</td>\n",
       "      <td>NaN</td>\n",
       "    </tr>\n",
       "    <tr>\n",
       "      <th>2015</th>\n",
       "      <td>  NaN</td>\n",
       "      <td>NaN</td>\n",
       "      <td>NaN</td>\n",
       "    </tr>\n",
       "    <tr>\n",
       "      <th>2014</th>\n",
       "      <td> 5.30</td>\n",
       "      <td>NaN</td>\n",
       "      <td>NaN</td>\n",
       "    </tr>\n",
       "    <tr>\n",
       "      <th>2013</th>\n",
       "      <td> 6.30</td>\n",
       "      <td>NaN</td>\n",
       "      <td>NaN</td>\n",
       "    </tr>\n",
       "    <tr>\n",
       "      <th>2012</th>\n",
       "      <td> 6.25</td>\n",
       "      <td>NaN</td>\n",
       "      <td>NaN</td>\n",
       "    </tr>\n",
       "  </tbody>\n",
       "</table>\n",
       "</div>"
      ],
      "text/plain": [
       "kind  movie  tv movie  tv series\n",
       "year                            \n",
       "2016    NaN       NaN        NaN\n",
       "2015    NaN       NaN        NaN\n",
       "2014   5.30       NaN        NaN\n",
       "2013   6.30       NaN        NaN\n",
       "2012   6.25       NaN        NaN"
      ]
     },
     "execution_count": 164,
     "metadata": {},
     "output_type": "execute_result"
    }
   ],
   "source": [
    "%pylab inline\n",
    "#import matplotlib.pylab as plt\n",
    "data_pivot = data_frame.pivot_table(index='year',columns='kind',values='rating')\n",
    "data_pivot.sort(ascending=False).head()"
   ]
  },
  {
   "cell_type": "code",
   "execution_count": 160,
   "metadata": {
    "collapsed": false
   },
   "outputs": [
    {
     "data": {
      "image/png": "[encoded data removed]",
      "text/plain": [
       "<matplotlib.figure.Figure at 0x128cbb710>"
      ]
     },
     "metadata": {},
     "output_type": "display_data"
    }
   ],
   "source": [
    "plot = data_pivot.plot()\n",
    "plt.xlabel('Year')\n",
    "plt.ylabel('Rating')\n",
    "plt.show()"
   ]
  },
  {
   "cell_type": "code",
   "execution_count": 153,
   "metadata": {
    "collapsed": false
   },
   "outputs": [
    {
     "name": "stdout",
     "output_type": "stream",
     "text": [
      "Robert_De_Niro.csv\n"
     ]
    }
   ],
   "source": [
    "# export data on csv\n",
    "data_frame.to_csv(actor['name'].replace(' ','_')+'.csv', encoding='utf-8')"
   ]
  },
  {
   "cell_type": "code",
   "execution_count": 134,
   "metadata": {
    "collapsed": false
   },
   "outputs": [
    {
     "data": {
      "text/plain": [
       "u'Robert_De_Niro'"
      ]
     },
     "execution_count": 134,
     "metadata": {},
     "output_type": "execute_result"
    }
   ],
   "source": [
    "n=actor['name'].split()\n",
    "\n",
    "name = actor['name']\n",
    "name.replace(' ','_')"
   ]
  },
  {
   "cell_type": "code",
   "execution_count": null,
   "metadata": {
    "collapsed": true
   },
   "outputs": [],
   "source": [
    "actor['name'].replace"
   ]
  },
  {
   "cell_type": "code",
   "execution_count": 137,
   "metadata": {
    "collapsed": false
   },
   "outputs": [
    {
     "data": {
      "text/plain": [
       "<Movie id:0809488[http] title:_\"The Godfather: A Novel for Television\" (1977)_>"
      ]
     },
     "execution_count": 137,
     "metadata": {},
     "output_type": "execute_result"
    }
   ],
   "source": [
    "film"
   ]
  },
  {
   "cell_type": "code",
   "execution_count": 140,
   "metadata": {
    "collapsed": false
   },
   "outputs": [
    {
     "data": {
      "text/plain": [
       "u'tv series'"
      ]
     },
     "execution_count": 140,
     "metadata": {},
     "output_type": "execute_result"
    }
   ],
   "source": [
    "film.key2infoset\n",
    "film['kind']"
   ]
  },
  {
   "cell_type": "code",
   "execution_count": 174,
   "metadata": {
    "collapsed": false
   },
   "outputs": [
    {
     "data": {
      "text/html": [
       "<div style=\"max-height:1000px;max-width:1500px;overflow:auto;\">\n",
       "<table border=\"1\" class=\"dataframe\">\n",
       "  <thead>\n",
       "    <tr style=\"text-align: right;\">\n",
       "      <th></th>\n",
       "      <th>id</th>\n",
       "      <th>title</th>\n",
       "      <th>rating</th>\n",
       "      <th>year</th>\n",
       "      <th>kind</th>\n",
       "    </tr>\n",
       "  </thead>\n",
       "  <tbody>\n",
       "    <tr>\n",
       "      <th>0 </th>\n",
       "      <td> 1860213</td>\n",
       "      <td>              Dirty Grandpa</td>\n",
       "      <td> NaN</td>\n",
       "      <td> 2016</td>\n",
       "      <td> movie</td>\n",
       "    </tr>\n",
       "    <tr>\n",
       "      <th>1 </th>\n",
       "      <td> 1781827</td>\n",
       "      <td>             Hands of Stone</td>\n",
       "      <td> NaN</td>\n",
       "      <td> 2016</td>\n",
       "      <td> movie</td>\n",
       "    </tr>\n",
       "    <tr>\n",
       "      <th>2 </th>\n",
       "      <td> 2446980</td>\n",
       "      <td>                        Joy</td>\n",
       "      <td> NaN</td>\n",
       "      <td> 2015</td>\n",
       "      <td> movie</td>\n",
       "    </tr>\n",
       "    <tr>\n",
       "      <th>3 </th>\n",
       "      <td> 2361509</td>\n",
       "      <td>                 The Intern</td>\n",
       "      <td> NaN</td>\n",
       "      <td> 2015</td>\n",
       "      <td> movie</td>\n",
       "    </tr>\n",
       "    <tr>\n",
       "      <th>4 </th>\n",
       "      <td> 3276924</td>\n",
       "      <td>                    Bus 657</td>\n",
       "      <td> NaN</td>\n",
       "      <td> 2015</td>\n",
       "      <td> movie</td>\n",
       "    </tr>\n",
       "    <tr>\n",
       "      <th>5 </th>\n",
       "      <td> 0416818</td>\n",
       "      <td>       Honeymoon with Harry</td>\n",
       "      <td> NaN</td>\n",
       "      <td>  NaN</td>\n",
       "      <td> movie</td>\n",
       "    </tr>\n",
       "    <tr>\n",
       "      <th>6 </th>\n",
       "      <td> 1967614</td>\n",
       "      <td>               The Comedian</td>\n",
       "      <td> NaN</td>\n",
       "      <td>  NaN</td>\n",
       "      <td> movie</td>\n",
       "    </tr>\n",
       "    <tr>\n",
       "      <th>25</th>\n",
       "      <td> 0780511</td>\n",
       "      <td>           Everybody's Fine</td>\n",
       "      <td> 7.2</td>\n",
       "      <td> 2009</td>\n",
       "      <td> movie</td>\n",
       "    </tr>\n",
       "    <tr>\n",
       "      <th>26</th>\n",
       "      <td> 1034331</td>\n",
       "      <td>             Righteous Kill</td>\n",
       "      <td> 6.0</td>\n",
       "      <td> 2008</td>\n",
       "      <td> movie</td>\n",
       "    </tr>\n",
       "    <tr>\n",
       "      <th>27</th>\n",
       "      <td> 0486674</td>\n",
       "      <td>         What Just Happened</td>\n",
       "      <td> 5.7</td>\n",
       "      <td> 2008</td>\n",
       "      <td> movie</td>\n",
       "    </tr>\n",
       "    <tr>\n",
       "      <th>28</th>\n",
       "      <td> 0486655</td>\n",
       "      <td>                   Stardust</td>\n",
       "      <td> 7.7</td>\n",
       "      <td> 2007</td>\n",
       "      <td> movie</td>\n",
       "    </tr>\n",
       "    <tr>\n",
       "      <th>29</th>\n",
       "      <td> 0343737</td>\n",
       "      <td>          The Good Shepherd</td>\n",
       "      <td> 6.7</td>\n",
       "      <td> 2006</td>\n",
       "      <td> movie</td>\n",
       "    </tr>\n",
       "    <tr>\n",
       "      <th>44</th>\n",
       "      <td> 0155711</td>\n",
       "      <td>                   Flawless</td>\n",
       "      <td> 6.4</td>\n",
       "      <td> 1999</td>\n",
       "      <td> movie</td>\n",
       "    </tr>\n",
       "    <tr>\n",
       "      <th>45</th>\n",
       "      <td> 0122933</td>\n",
       "      <td>               Analyze This</td>\n",
       "      <td> 6.7</td>\n",
       "      <td> 1999</td>\n",
       "      <td> movie</td>\n",
       "    </tr>\n",
       "    <tr>\n",
       "      <th>46</th>\n",
       "      <td> 0122690</td>\n",
       "      <td>                      Ronin</td>\n",
       "      <td> 7.3</td>\n",
       "      <td> 1998</td>\n",
       "      <td> movie</td>\n",
       "    </tr>\n",
       "    <tr>\n",
       "      <th>47</th>\n",
       "      <td> 0119223</td>\n",
       "      <td>         Great Expectations</td>\n",
       "      <td> 6.8</td>\n",
       "      <td> 1998</td>\n",
       "      <td> movie</td>\n",
       "    </tr>\n",
       "    <tr>\n",
       "      <th>48</th>\n",
       "      <td> 0119396</td>\n",
       "      <td>               Jackie Brown</td>\n",
       "      <td> 7.5</td>\n",
       "      <td> 1997</td>\n",
       "      <td> movie</td>\n",
       "    </tr>\n",
       "    <tr>\n",
       "      <th>69</th>\n",
       "      <td> 0098625</td>\n",
       "      <td>            We're No Angels</td>\n",
       "      <td> 6.0</td>\n",
       "      <td> 1989</td>\n",
       "      <td> movie</td>\n",
       "    </tr>\n",
       "    <tr>\n",
       "      <th>70</th>\n",
       "      <td> 0097607</td>\n",
       "      <td>                   Jacknife</td>\n",
       "      <td> 6.4</td>\n",
       "      <td> 1989</td>\n",
       "      <td> movie</td>\n",
       "    </tr>\n",
       "    <tr>\n",
       "      <th>71</th>\n",
       "      <td> 0095631</td>\n",
       "      <td>               Midnight Run</td>\n",
       "      <td> 7.6</td>\n",
       "      <td> 1988</td>\n",
       "      <td> movie</td>\n",
       "    </tr>\n",
       "    <tr>\n",
       "      <th>72</th>\n",
       "      <td> 0094226</td>\n",
       "      <td>           The Untouchables</td>\n",
       "      <td> 8.0</td>\n",
       "      <td> 1987</td>\n",
       "      <td> movie</td>\n",
       "    </tr>\n",
       "    <tr>\n",
       "      <th>73</th>\n",
       "      <td> 0092563</td>\n",
       "      <td>                Angel Heart</td>\n",
       "      <td> 7.3</td>\n",
       "      <td> 1987</td>\n",
       "      <td> movie</td>\n",
       "    </tr>\n",
       "    <tr>\n",
       "      <th>81</th>\n",
       "      <td> 0077416</td>\n",
       "      <td>            The Deer Hunter</td>\n",
       "      <td> 8.2</td>\n",
       "      <td> 1978</td>\n",
       "      <td> movie</td>\n",
       "    </tr>\n",
       "    <tr>\n",
       "      <th>82</th>\n",
       "      <td> 0076451</td>\n",
       "      <td>         New York, New York</td>\n",
       "      <td> 6.7</td>\n",
       "      <td> 1977</td>\n",
       "      <td> movie</td>\n",
       "    </tr>\n",
       "    <tr>\n",
       "      <th>83</th>\n",
       "      <td> 0074777</td>\n",
       "      <td>            The Last Tycoon</td>\n",
       "      <td> 6.4</td>\n",
       "      <td> 1976</td>\n",
       "      <td> movie</td>\n",
       "    </tr>\n",
       "    <tr>\n",
       "      <th>84</th>\n",
       "      <td> 0074084</td>\n",
       "      <td>                  Novecento</td>\n",
       "      <td> 7.7</td>\n",
       "      <td> 1976</td>\n",
       "      <td> movie</td>\n",
       "    </tr>\n",
       "    <tr>\n",
       "      <th>85</th>\n",
       "      <td> 0075314</td>\n",
       "      <td>                Taxi Driver</td>\n",
       "      <td> 8.4</td>\n",
       "      <td> 1976</td>\n",
       "      <td> movie</td>\n",
       "    </tr>\n",
       "    <tr>\n",
       "      <th>94</th>\n",
       "      <td> 0064924</td>\n",
       "      <td>                 Sam's Song</td>\n",
       "      <td> 3.7</td>\n",
       "      <td> 1969</td>\n",
       "      <td> movie</td>\n",
       "    </tr>\n",
       "    <tr>\n",
       "      <th>95</th>\n",
       "      <td> 0065198</td>\n",
       "      <td>          The Wedding Party</td>\n",
       "      <td> 5.0</td>\n",
       "      <td> 1969</td>\n",
       "      <td> movie</td>\n",
       "    </tr>\n",
       "    <tr>\n",
       "      <th>96</th>\n",
       "      <td> 0063036</td>\n",
       "      <td>                  Greetings</td>\n",
       "      <td> 5.8</td>\n",
       "      <td> 1968</td>\n",
       "      <td> movie</td>\n",
       "    </tr>\n",
       "    <tr>\n",
       "      <th>97</th>\n",
       "      <td> 0179492</td>\n",
       "      <td> Trois chambres à Manhattan</td>\n",
       "      <td> 7.0</td>\n",
       "      <td> 1965</td>\n",
       "      <td> movie</td>\n",
       "    </tr>\n",
       "    <tr>\n",
       "      <th>98</th>\n",
       "      <td> 2141713</td>\n",
       "      <td>                  Encounter</td>\n",
       "      <td> 7.7</td>\n",
       "      <td> 1965</td>\n",
       "      <td> movie</td>\n",
       "    </tr>\n",
       "  </tbody>\n",
       "</table>\n",
       "</div>"
      ],
      "text/plain": [
       "         id                       title  rating  year   kind\n",
       "0   1860213               Dirty Grandpa     NaN  2016  movie\n",
       "1   1781827              Hands of Stone     NaN  2016  movie\n",
       "2   2446980                         Joy     NaN  2015  movie\n",
       "3   2361509                  The Intern     NaN  2015  movie\n",
       "4   3276924                     Bus 657     NaN  2015  movie\n",
       "5   0416818        Honeymoon with Harry     NaN   NaN  movie\n",
       "6   1967614                The Comedian     NaN   NaN  movie\n",
       "25  0780511            Everybody's Fine     7.2  2009  movie\n",
       "26  1034331              Righteous Kill     6.0  2008  movie\n",
       "27  0486674          What Just Happened     5.7  2008  movie\n",
       "28  0486655                    Stardust     7.7  2007  movie\n",
       "29  0343737           The Good Shepherd     6.7  2006  movie\n",
       "44  0155711                    Flawless     6.4  1999  movie\n",
       "45  0122933                Analyze This     6.7  1999  movie\n",
       "46  0122690                       Ronin     7.3  1998  movie\n",
       "47  0119223          Great Expectations     6.8  1998  movie\n",
       "48  0119396                Jackie Brown     7.5  1997  movie\n",
       "69  0098625             We're No Angels     6.0  1989  movie\n",
       "70  0097607                    Jacknife     6.4  1989  movie\n",
       "71  0095631                Midnight Run     7.6  1988  movie\n",
       "72  0094226            The Untouchables     8.0  1987  movie\n",
       "73  0092563                 Angel Heart     7.3  1987  movie\n",
       "81  0077416             The Deer Hunter     8.2  1978  movie\n",
       "82  0076451          New York, New York     6.7  1977  movie\n",
       "83  0074777             The Last Tycoon     6.4  1976  movie\n",
       "84  0074084                   Novecento     7.7  1976  movie\n",
       "85  0075314                 Taxi Driver     8.4  1976  movie\n",
       "94  0064924                  Sam's Song     3.7  1969  movie\n",
       "95  0065198           The Wedding Party     5.0  1969  movie\n",
       "96  0063036                   Greetings     5.8  1968  movie\n",
       "97  0179492  Trois chambres à Manhattan     7.0  1965  movie\n",
       "98  2141713                   Encounter     7.7  1965  movie"
      ]
     },
     "execution_count": 174,
     "metadata": {},
     "output_type": "execute_result"
    }
   ],
   "source": [
    "dyear = data_frame_movies.groupby( (data_frame_movies['year']//10)*10)\n",
    "#dyear = data_frame_movies.ix['1980']\n",
    "dyear.head()"
   ]
  },
  {
   "cell_type": "code",
   "execution_count": 187,
   "metadata": {
    "collapsed": false
   },
   "outputs": [
    {
     "data": {
      "text/plain": [
       "<matplotlib.axes._subplots.AxesSubplot at 0x1292e8ed0>"
      ]
     },
     "execution_count": 187,
     "metadata": {},
     "output_type": "execute_result"
    },
    {
     "data": {
      "image/png": "[encoded data removed]",
      "text/plain": [
       "<matplotlib.figure.Figure at 0x1294bfc10>"
      ]
     },
     "metadata": {},
     "output_type": "display_data"
    }
   ],
   "source": [
    "def floor_decade(year):\n",
    "    \"Takes a date. Returns the decade.\"\n",
    "    return (year // 10) * 10\n",
    "\n",
    "#data_frame_movies\n",
    "data_per_year = data_frame.set_index('year')\n",
    "data_per_year.groupby(floor_decade).mean().plot()"
   ]
  },
  {
   "cell_type": "code",
   "execution_count": null,
   "metadata": {
    "collapsed": true
   },
   "outputs": [],
   "source": []
  }
 ],
 "metadata": {
  "kernelspec": {
   "display_name": "Python 2",
   "language": "python",
   "name": "python2"
  },
  "language_info": {
   "codemirror_mode": {
    "name": "ipython",
    "version": 2
   },
   "file_extension": ".py",
   "mimetype": "text/x-python",
   "name": "python",
   "nbconvert_exporter": "python",
   "pygments_lexer": "ipython2",
   "version": "2.7.10"
  }
 },
 "nbformat": 4,
 "nbformat_minor": 0
}
